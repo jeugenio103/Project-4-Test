{
 "cells": [
  {
   "cell_type": "code",
   "execution_count": 2,
   "metadata": {},
   "outputs": [],
   "source": [
    "from openai_key import key "
   ]
  },
  {
   "cell_type": "code",
   "execution_count": 1,
   "metadata": {},
   "outputs": [],
   "source": [
    "prompt_text = \"Artist: NIKI \\n\\nTopic: Smells Like Grass \\n\\nLyrics:\\n\""
   ]
  },
  {
   "cell_type": "code",
   "execution_count": 3,
   "metadata": {},
   "outputs": [],
   "source": [
    "import openai\n",
    "openai.api_key = key\n",
    "response = openai.Completion.create(\n",
    "  model=\"davinci:ft-personal-2023-01-05-06-24-18\",\n",
    "  prompt=prompt_text,\n",
    "  max_tokens=256,\n",
    "  temperature=0.7,\n",
    "  frequency_penalty=0.5,\n",
    "  stop=[\"\\n###END\"]\n",
    ")"
   ]
  },
  {
   "cell_type": "code",
   "execution_count": 5,
   "metadata": {},
   "outputs": [
    {
     "name": "stdout",
     "output_type": "stream",
     "text": [
      "Artist: NIKI \n",
      "\n",
      "Topic: Smells Like Grass \n",
      "\n",
      "Lyrics:\n",
      " \n",
      "[Intro]\n",
      "I don't see no one\n",
      "Smells like grass\n",
      "Yeah, yeah, yeah, yeah, yeah, yeah\n",
      "Yeah, smells like grass (Yeah)\n",
      "Smells like grass (Smells like grass)\n",
      "Smells like grass (Yeah)\n",
      "I just know that I'ma own this town (Yah!)\n",
      "Yah, yah, yah, yah, yah (Yah!)\n",
      "Yah, yah, yah, yah (Yah!)\n",
      "Yah, yah ,yay-ee-oh (Oh)\n",
      "Ayy-ee-oh-oh-oh-oh!(Brr)\n",
      "[Verse ]\n",
      "Phone full of hoes but I don't wanna call 'em (Call 'em)\n",
      "Phone full of hoes but I don't want to stalk 'em (Stalk 'em)\n",
      "Phone full of hoes but I just want to smash 'em (Smash 'em) ()()()()()()()()(Ay!)(Ay!)(Ay!)(Ay!)(Ay!)(Ay!)(Ay!)Ayy! And I can tell you smell it on my sheets and pillowcases'Cause you keep\n"
     ]
    }
   ],
   "source": [
    "print(prompt_text + response['choices'][0]['text'])\n"
   ]
  }
 ],
 "metadata": {
  "kernelspec": {
   "display_name": "base",
   "language": "python",
   "name": "python3"
  },
  "language_info": {
   "codemirror_mode": {
    "name": "ipython",
    "version": 3
   },
   "file_extension": ".py",
   "mimetype": "text/x-python",
   "name": "python",
   "nbconvert_exporter": "python",
   "pygments_lexer": "ipython3",
   "version": "3.9.12 (main, Apr  4 2022, 05:22:27) [MSC v.1916 64 bit (AMD64)]"
  },
  "orig_nbformat": 4,
  "vscode": {
   "interpreter": {
    "hash": "649c1df603cb0c763ecfaa92bb521097eed9c2899b8783802d049b76a8b3378e"
   }
  }
 },
 "nbformat": 4,
 "nbformat_minor": 2
}
